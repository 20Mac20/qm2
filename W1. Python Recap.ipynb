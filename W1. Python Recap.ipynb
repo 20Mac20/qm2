{
 "cells": [
  {
   "cell_type": "markdown",
   "metadata": {},
   "source": [
    "Quantitative Methods 2:  Data Science and Visualisation\n",
    "------------------------------\n",
    "\n",
    "Week 1: Recapping Python\n",
    "------------------------------\n",
    "\n",
    "Using Python\n",
    "------------\n",
    "\n",
    "In this course, we'll make extensive use of *Python*, a programming language used widely in scientific computing and on the web. We will be using Python as a way to manipulate, plot and analyse data. This isn't a course about learning Python, it's about working with data - but we'll learning a little bit of programming along the way.\n",
    "\n",
    "By now, you should have done the prerequisites for the module, and understand a bit about how Python is structured, what different commands do, and so on - this is a bit of a refresher to remind you of what we need at the beginning of term.\n",
    "\n",
    "The particular flavour of Python we're using is *iPython*, which, as we've seen, allows us to combine text, code, images, equations and figures in a *Notebook*. This is a *cell*, written in *markdown* - a way of writing nice text. Contrast this with *code* cell, which executes a bit of Python:"
   ]
  },
  {
   "cell_type": "code",
   "execution_count": null,
   "metadata": {
    "collapsed": true
   },
   "outputs": [],
   "source": [
    "print 1+1"
   ]
  },
  {
   "cell_type": "markdown",
   "metadata": {},
   "source": [
    "The Notebook format allows you to engage in what Don Knuth describes as [Literate Programming](http://en.wikipedia.org/wiki/Literate_programming):\n",
    "\n",
    "> […] Instead of writing code containing documentation, the literate programmer writes documentation containing code. No longer does the English commentary injected into a program have to be hidden in comment delimiters at the top of the file, or under procedure headings, or at the end of lines. Instead, it is wrenched into the daylight and made the main focus. The \"program\" then becomes primarily a document directed at humans, with the code being herded between \"code delimiters\" from where it can be extracted and shuffled out sideways to the language system by literate programming tools.\n",
    "[Ross Williams][1]\n",
    "\n",
    "[1]: http://www.literateprogramming.com/lpquotes.html"
   ]
  },
  {
   "cell_type": "markdown",
   "metadata": {},
   "source": [
    "Libraries\n",
    "---------\n",
    "\n",
    "We will work with a number of *libraries*, which provide additional functions and techniques to help us to carry out our tasks.\n",
    "\n",
    "These include:\n",
    "\n",
    "*Pandas:* we'll use this a lot to slice and dice data\n",
    "\n",
    "*matplotlib*: this is our basic graphing software, and we'll also use it for mapping\n",
    "\n",
    "*nltk*: The Natural Language Tool Kit will help us work with text\n",
    "\n",
    "We aren't doing all this to learn to program. We could spend a whole term learning how to use Python and never look at any data, maps, graphs, or visualisations. But we do need to understand a few basics to use Python for working with data. So let's revisit a few concepts that you should have covered in your prerequisites."
   ]
  },
  {
   "cell_type": "markdown",
   "metadata": {},
   "source": [
    "Variables\n",
    "---------\n",
    "\n",
    "Python can broadly be divided in verbs and nouns: things which *do* things, and things which *are* things. In Python, the verbs can be *commands*, *functions*, or *methods*. We won't worry too much about the distinction here - suffice it to say, they are the parts of code which manipulate data, calculate values, or show things on the screen.\n",
    "\n",
    "The simplest proper noun object in Python is the *variable*. Variables are given names and store information. This can be, for example, numeric, text, or boolean (true/false). These are all statements setting up variables:\n",
    "\n",
    "n = 1\n",
    "\n",
    "t = \"hi\"\n",
    "\n",
    "b = True\n",
    "\n",
    "Now let's try this in code:"
   ]
  },
  {
   "cell_type": "code",
   "execution_count": null,
   "metadata": {
    "collapsed": true
   },
   "outputs": [],
   "source": [
    "n = 1\n",
    "\n",
    "t = \"hi\"\n",
    "\n",
    "b = True"
   ]
  },
  {
   "cell_type": "markdown",
   "metadata": {},
   "source": [
    "Note that each command is on a new line; other than that, the *syntax* of Python should be fairly clear. We're setting these variables equal to the letters and numbers and phrases and booleans. **What's a boolean?**\n",
    "\n",
    "The value of this is we now have values tied to these variables - so every time we want to use it, we can refer to the variable:"
   ]
  },
  {
   "cell_type": "code",
   "execution_count": null,
   "metadata": {
    "collapsed": true
   },
   "outputs": [],
   "source": [
    "n"
   ]
  },
  {
   "cell_type": "code",
   "execution_count": null,
   "metadata": {
    "collapsed": true
   },
   "outputs": [],
   "source": [
    "t"
   ]
  },
  {
   "cell_type": "code",
   "execution_count": null,
   "metadata": {
    "collapsed": true
   },
   "outputs": [],
   "source": [
    "b"
   ]
  },
  {
   "cell_type": "markdown",
   "metadata": {},
   "source": [
    "Because we've defined these variables in the early part of the notebook, we can use them later on."
   ]
  },
  {
   "cell_type": "markdown",
   "metadata": {},
   "source": [
    "***Advanced**: where do **classes** fit into this noun/verb picture of variables and commands?*"
   ]
  },
  {
   "cell_type": "markdown",
   "metadata": {},
   "source": [
    "Where is my data?\n",
    "-----------------\n",
    "\n",
    "When we work in excel and text editors, we're used to seeing the data onscreen - and if we manipulate the data in some way (averaging or summing up), we see both the inputs and outputs on screen. The big difference in working with Python is that we don't see our variables all of the time, or the effect we're having on them. They're there in the background, but it's usually worth checking in on them from time to time, to see whether our processes are doing what we think they're doing.\n",
    "\n",
    "This is pretty easy to do - we can just type the variable name, or \"print *variable name*\":"
   ]
  },
  {
   "cell_type": "code",
   "execution_count": null,
   "metadata": {
    "collapsed": true
   },
   "outputs": [],
   "source": [
    "n = n+1\n",
    "print n\n",
    "print t\n",
    "print b"
   ]
  },
  {
   "cell_type": "markdown",
   "metadata": {},
   "source": [
    "Flow\n",
    "----\n",
    "\n",
    "Python, in common with all programming languages, executes commands in a sequence - we might refer to this as the \"ineluctable march of the machines\", but it's more common referred to as the *flow* of the code (we'll use the word \"code\" a lot - it just means commands written in the programming language). In most cases, code just executes in the order it's written. This is true within each *cell* (each block of text in the notebook), and it's true when we execute the cells in order; that's why we can refer back to the variables we defined earlier:"
   ]
  },
  {
   "cell_type": "code",
   "execution_count": null,
   "metadata": {
    "collapsed": true
   },
   "outputs": [],
   "source": [
    "print n"
   ]
  },
  {
   "cell_type": "markdown",
   "metadata": {},
   "source": [
    "If we make a change to one of these variables, say n:"
   ]
  },
  {
   "cell_type": "code",
   "execution_count": null,
   "metadata": {
    "collapsed": true
   },
   "outputs": [],
   "source": [
    "n = 3"
   ]
  },
  {
   "cell_type": "markdown",
   "metadata": {},
   "source": [
    "and execute the above \"print n\" command, you'll see that it has changed n to 3. So if we go out of order, the obvious flow of the code is confused. For this reason, try to write your code so it executes in order, one cell at a time. At least for the moment, this will make it easier to follow the logic of what you're doing to data."
   ]
  },
  {
   "cell_type": "markdown",
   "metadata": {},
   "source": [
    "*Advanced*: what happens to this flow when you write *functions* to automate common tasks? "
   ]
  },
  {
   "cell_type": "markdown",
   "metadata": {},
   "source": [
    "***Exercise - Setting up variables***:\n",
    "\n",
    "\n",
    "1. Create a new cell. \n",
    "\n",
    "2. Create the variables \"name\", and assign your name to it. \n",
    "\n",
    "3. Create a variable \"Python\" and assign a score out of 10 to how much you like Python. \n",
    "\n",
    "4. Create a variable \"prior\" and if you've used Python before, assign True; otherwise assign False to the variable\n",
    "\n",
    "5. Print these out to the screen"
   ]
  },
  {
   "cell_type": "markdown",
   "metadata": {},
   "source": [
    "Downloading Data\n",
    "--------------------------\n",
    "\n",
    "Lets fetch the data we will be using for this session. You can either upload the data to the Azure notebook by using the Data Menu above or you can use the following cell to fetch the data directly from the QM2 server.\n",
    "\n",
    "Let's create a folder that we can store all our data for this session"
   ]
  },
  {
   "cell_type": "code",
   "execution_count": null,
   "metadata": {
    "collapsed": true
   },
   "outputs": [],
   "source": [
    "!mkdir data"
   ]
  },
  {
   "cell_type": "code",
   "execution_count": null,
   "metadata": {
    "collapsed": true
   },
   "outputs": [],
   "source": [
    "!mkdir ./data/wk1\n",
    "!curl https://s3.eu-west-2.amazonaws.com/qm2/wk1/data.csv -o ./data/wk1/data.csv\n",
    "!curl https://s3.eu-west-2.amazonaws.com/qm2/wk1/sample_group.csv -o ./data/wk1/sample_group.csv"
   ]
  },
  {
   "cell_type": "markdown",
   "metadata": {},
   "source": [
    "Storing and importing data\n",
    "--------------------------\n",
    "\n",
    "Typically, data we look at won't be just one number, or one bit of text. Python has a lot of different ways of dealing with a bunch of numbers: for example, a list of values is called a **list**:"
   ]
  },
  {
   "cell_type": "code",
   "execution_count": null,
   "metadata": {
    "collapsed": true
   },
   "outputs": [],
   "source": [
    "listy = [1,2,3,6,9]\n",
    "print listy"
   ]
  },
  {
   "cell_type": "markdown",
   "metadata": {},
   "source": [
    "A set of values *linked* to an index (or key) is called a **dictionary**; for example:"
   ]
  },
  {
   "cell_type": "code",
   "execution_count": null,
   "metadata": {
    "collapsed": true
   },
   "outputs": [],
   "source": [
    "dicty = {'Bob': 1.2, 'Mike': 1.2, 'Coop': 1.1, 'Maddy': 1.3, 'Giant': 2.1}\n",
    "print dicty"
   ]
  },
  {
   "cell_type": "markdown",
   "metadata": {},
   "source": [
    "Notice that the list uses square brackets with values separated by commas, and the dict uses curly brackets with pairs separated by commas, and colons (:) to link a *key* (index or address) with a value.\n",
    "\n",
    "(You might notice that they haven't printed out in the order you entered them)"
   ]
  },
  {
   "cell_type": "markdown",
   "metadata": {},
   "source": [
    "***Advanced**: Print out 1) The third element of **listy**, and 2) The element of **dicty** relating to Giant"
   ]
  },
  {
   "cell_type": "code",
   "execution_count": null,
   "metadata": {
    "collapsed": true
   },
   "outputs": [],
   "source": []
  },
  {
   "cell_type": "markdown",
   "metadata": {},
   "source": [
    "We'll discuss different ways of organising data again soon, but for now we'll look at *dataframes* - the way our data-friendly *library* **Pandas** works with data. We'll be using Pandas a lot this term, so it's good to get started with it early.\n",
    "\n",
    "Let's start by importing pandas. We'll also import another library, but we're not going to worry about that too much at the moment.  \n",
    "\n",
    "If you see a warning about 'Building Font Cache' don't worry - this is normal."
   ]
  },
  {
   "cell_type": "code",
   "execution_count": null,
   "metadata": {
    "collapsed": true
   },
   "outputs": [],
   "source": [
    "import pandas\n",
    "\n",
    "import matplotlib\n",
    "%matplotlib inline"
   ]
  },
  {
   "cell_type": "markdown",
   "metadata": {},
   "source": [
    "Let's import a simple dataset and show it in pandas. We'll use a pre-prepared \".csv\" file, which needs to be in the same folder as our code."
   ]
  },
  {
   "cell_type": "code",
   "execution_count": null,
   "metadata": {
    "collapsed": true
   },
   "outputs": [],
   "source": [
    "data = pandas.DataFrame.from_csv('./data/wk1/data.csv')\n",
    "data.head()"
   ]
  },
  {
   "cell_type": "markdown",
   "metadata": {},
   "source": [
    "What we've done here is read in a .csv file into a **dataframe**, the object pandas uses to work with data, and one that has lots of methods for slicing and dicing data, as we will see over the coming weeks. The **head()** command tells iPython to show the first few columns/rows of the data, so we can start to get a sense of what the data looks like and what sort of type of objects is represents.\n",
    "\n",
    "Extension: Dotting the Is\n",
    "--------------\n",
    "You have no doubt noticed the chain of dots above - like \"pandas.DataFrame.from_csv('data1.csv')\" - which is the Python way of accessing subcomponents of libraries. So, when we use \"data.head()\" we are calling a method in the *data* object called *head()* - which draws the first five rows. When we do \"pandas.DataFrame.from_csv(*blah*)\", we are going into the library *pandas* (which we've mentioned before), getting the object *DataFrame* and then delving within that to get a command called *from_csv* - which is what we need to import our data. So each dot is like saying \"look inside the object and get this method/variable/whatever\". If you're interested in this, you can look into Object Oriented Programming a bit more - but generally, it's worth just thinking about these things as packages that have all kinds of useful functions and commands. As we'll see soon, we can also do stuff like plot the data in the dataframe...\n",
    "\n"
   ]
  },
  {
   "cell_type": "code",
   "execution_count": null,
   "metadata": {
    "collapsed": true
   },
   "outputs": [],
   "source": [
    "data.plot()"
   ]
  },
  {
   "cell_type": "markdown",
   "metadata": {},
   "source": [
    "Here, the dataset represents characters from 90s TV series *Twin Peaks* - which season/episode they first appeared in, their approximate height, gender and whether they are law enforcement officers. Let's start to think about a more useful dataset."
   ]
  },
  {
   "cell_type": "markdown",
   "metadata": {},
   "source": [
    "Exercise: Assigning groups\n",
    "-------\n",
    "\n",
    "In the next few days, we will be assigning groups for your project work, so you can start thinking about your final projects. To do this, we want to assign groups based on a mix of skills and interests.\n",
    "\n",
    "1. Form a group of 4 with your neighbours\n",
    "2. Create a .csv file with the headings \"Name\", \"Context\", \"Data Analysis\", and \"Design\". \n",
    "3. Fill in your names\n",
    "4. Each individual has ten points - they need to assign those ten points to the three categories (\"Context\", \"Data Analysis\", and \"Design\") based on what they are most interested in - \"Context\" (using data and quantitative methods to explore issues in the arts, science, or politics, for example), \"Data Analysis\" (the business of using these methods to get a deeper understanding of what the data tells us), or \"Design\" (creating maps, graphs and other visual tools to communicate these stories visually and complement textual narratives).\n",
    "5. Save as a csv, then load this into Python and display it, as we did with our *Twin Peaks* data above. We can even use some boilerplate code to make your life very easy:"
   ]
  },
  {
   "cell_type": "code",
   "execution_count": null,
   "metadata": {
    "collapsed": true
   },
   "outputs": [],
   "source": [
    "myFilename = './data/wk1/your_sample_group_file.csv'\n",
    "data = pandas.DataFrame.from_csv(myFilename)\n",
    "data.head()"
   ]
  },
  {
   "cell_type": "markdown",
   "metadata": {},
   "source": [
    "Homework\n",
    "--------\n",
    "\n",
    "Co-ordinate across the cohort to create these scores for everyone taking this class - then we'll do some work behind the scenes to create balanced groups which incorporate different interests and skills. *Remember*, we expect you all to do a little coding, a little mapping/graphing/visualisation, and a little writing - so this isn't a way to to avoid Python altogether for your final project!"
   ]
  },
  {
   "cell_type": "markdown",
   "metadata": {},
   "source": [
    "Deadline\n",
    "--------\n",
    "Before Week 2 Lecture "
   ]
  },
  {
   "cell_type": "markdown",
   "metadata": {},
   "source": [
    "Supplementary: More about Markdown\n",
    "------------------------\n",
    "\n",
    "Markdown lets us format text:\n",
    "\n",
    "# As Heading Text\n",
    "## A little bit smaller\n",
    "### There are six header levels\n",
    "\n",
    "**In bold**\n",
    "\n",
    "*In italics*\n",
    "\n",
    "In unordered lists:\n",
    "\n",
    "    A list item\n",
    "    Another List Item\n",
    "    Yet Another list item\n",
    "    \n",
    "Or in numbered lists:\n",
    "\n",
    "1. The first entry\n",
    "2. The Second entry\n",
    "3. The third entry\n",
    "4. The fourth entry\n",
    "    5. You can even have sub-lists\n",
    "    6. It's very flexible\n",
    "\n",
    "Or in bulleted lists:\n",
    "\n",
    "   - You're beginning to get the idea now\n",
    "   - And so on\n",
    "\n",
    "Text can be formatted as code inline: `[entry for entry in ls if ls % 2 == 0]`\n",
    "\n",
    "And it even has blockquotes:\n",
    "\n",
    "   > The sky above the port was the color of a television, tuned to a dead channel\n",
    "\n",
    "And you can embed images if you want:"
   ]
  },
  {
   "cell_type": "code",
   "execution_count": null,
   "metadata": {
    "collapsed": true
   },
   "outputs": [],
   "source": [
    "from IPython.display import Image, display\n",
    "\n",
    "Image(\"https://s3.eu-west-2.amazonaws.com/qm2/wk1/python.png\")"
   ]
  },
  {
   "cell_type": "markdown",
   "metadata": {},
   "source": [
    "You can also use $\\LaTeX$, which allows you to type mathematical formulæ and display them correctly:\n",
    "\n",
    "$x = y+z$\n",
    "\n",
    "$z = \\sum_{\\alpha}Y_{\\alpha}$\n",
    "\n",
    "$Y_{ij} = \\frac{M_iM_j}{r^\\beta}$"
   ]
  }
 ],
 "metadata": {
  "kernelspec": {
   "display_name": "Python 2",
   "language": "python",
   "name": "python2"
  },
  "language_info": {
   "codemirror_mode": {
    "name": "ipython",
    "version": 2
   },
   "file_extension": ".py",
   "mimetype": "text/x-python",
   "name": "python",
   "nbconvert_exporter": "python",
   "pygments_lexer": "ipython2",
   "version": "2.7.14"
  }
 },
 "nbformat": 4,
 "nbformat_minor": 1
}
